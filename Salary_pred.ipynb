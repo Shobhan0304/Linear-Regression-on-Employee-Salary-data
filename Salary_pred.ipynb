{
  "nbformat": 4,
  "nbformat_minor": 0,
  "metadata": {
    "colab": {
      "provenance": [],
      "collapsed_sections": []
    },
    "kernelspec": {
      "name": "python3",
      "display_name": "Python 3"
    },
    "language_info": {
      "name": "python"
    }
  },
  "cells": [
    {
      "cell_type": "code",
      "execution_count": 1,
      "metadata": {
        "id": "FJB9PyrgJ8Tx"
      },
      "outputs": [],
      "source": [
        "#importing all packages\n",
        "import pandas as pd\n",
        "import numpy as np\n",
        "import matplotlib.pyplot as plt\n",
        "import seaborn as sns\n",
        "from sklearn.model_selection import train_test_split\n",
        "from sklearn.linear_model import LinearRegression\n",
        "from sklearn.metrics import mean_absolute_error"
      ]
    },
    {
      "cell_type": "code",
      "source": [
        "#Loading the Employee Salary dataset using the 'read_csv()' function from pandas library\n",
        "#The read_csv() function read the contents of a dataset stored in .csv or comma separated values format\n",
        "data = pd.read_csv('Salary.csv')\n",
        "\n",
        "#Checking if the dataset was read properly\n",
        "print(data.head())"
      ],
      "metadata": {
        "colab": {
          "base_uri": "https://localhost:8080/"
        },
        "id": "bPnivvS3FmIp",
        "outputId": "03028a6e-62be-472a-89b4-9ef585180d0e"
      },
      "execution_count": 2,
      "outputs": [
        {
          "output_type": "stream",
          "name": "stdout",
          "text": [
            "   YearsExperience  Salary\n",
            "0              1.1   39343\n",
            "1              1.3   46205\n",
            "2              1.5   37731\n",
            "3              2.0   43525\n",
            "4              2.2   39891\n"
          ]
        }
      ]
    },
    {
      "cell_type": "code",
      "source": [
        "#Data preprocessing\n",
        "#Our prediction target or dependent variable is the 'Salary' column\n",
        "#Separating the dependent variable and the independent variables using dataframe slicing techniques from pandas library\n",
        "x = data.drop(columns=['Salary']) #independent variable\n",
        "y = data['Salary'] #dependent variable"
      ],
      "metadata": {
        "id": "NQAZH4VyGHGQ"
      },
      "execution_count": 3,
      "outputs": []
    },
    {
      "cell_type": "code",
      "source": [
        "#Splitting the dataset into Training Set and Testing Set\n",
        "#Using the 'train_test_split' function from sklear library\n",
        "#The first parameter is the set of independent variables, the second parameter is the dependent variable\n",
        "#The 'test_size' parameter determines the size of the testing dataset. Here we will be using 20% of the dataset for testing\n",
        "x_train, x_test, y_train, y_test = train_test_split(x,y, test_size=0.2, random_state=0) "
      ],
      "metadata": {
        "id": "ZA7bm6yzHdJG"
      },
      "execution_count": 4,
      "outputs": []
    },
    {
      "cell_type": "code",
      "source": [
        "#Model Creation\n",
        "#Creating an instance of Linear Regression model\n",
        "lr = LinearRegression()\n",
        "\n",
        "#fitting the training set into the model\n",
        "lr.fit(x_train, y_train)"
      ],
      "metadata": {
        "colab": {
          "base_uri": "https://localhost:8080/"
        },
        "id": "7AqPPonBITD7",
        "outputId": "a95bd460-a95b-413a-9e07-f937141c5404"
      },
      "execution_count": 5,
      "outputs": [
        {
          "output_type": "execute_result",
          "data": {
            "text/plain": [
              "LinearRegression()"
            ]
          },
          "metadata": {},
          "execution_count": 5
        }
      ]
    },
    {
      "cell_type": "code",
      "source": [
        "#Predicting test results\n",
        "predicted_value = lr.predict(x_test) #predicting on test values to check accuracy\n",
        "actual_value = lr.predict(x_train) #predicting on train values for comparision"
      ],
      "metadata": {
        "id": "_evd8JpGIw4L"
      },
      "execution_count": 6,
      "outputs": []
    },
    {
      "cell_type": "code",
      "source": [
        "#Evaluating the accuracy score (mean absolute error)\n",
        "accuracy = mean_absolute_error(predicted_value, y_test)\n",
        "print(\"Mean absolute error: \",accuracy)"
      ],
      "metadata": {
        "colab": {
          "base_uri": "https://localhost:8080/"
        },
        "id": "Hpgw2Hh4U_iu",
        "outputId": "e65d2751-8e87-436f-a565-20799086fa00"
      },
      "execution_count": 7,
      "outputs": [
        {
          "output_type": "stream",
          "name": "stdout",
          "text": [
            "Mean absolute error:  3500.419123800644\n"
          ]
        }
      ]
    },
    {
      "cell_type": "code",
      "source": [
        "#Plotting a graph to visualise the training set results\n",
        "plt.scatter(x_train, y_train, color='blue') #scatter plot for train values (actual values)\n",
        "plt.plot(x_train, actual_value, color='red') #line plot for model\n",
        "plt.title('Salary VS Experience')  \n",
        "plt.xlabel('Experience')\n",
        "plt.ylabel('Salary(in Rupees)')\n",
        "plt.show()"
      ],
      "metadata": {
        "colab": {
          "base_uri": "https://localhost:8080/",
          "height": 295
        },
        "id": "jy-qf9_tdM23",
        "outputId": "cfece208-6e45-4771-f506-000f26f1789b"
      },
      "execution_count": 8,
      "outputs": [
        {
          "output_type": "display_data",
          "data": {
            "text/plain": [
              "<Figure size 432x288 with 1 Axes>"
            ],
            "image/png": "[encoded data removed]"
          },
          "metadata": {
            "needs_background": "light"
          }
        }
      ]
    },
    {
      "cell_type": "code",
      "source": [
        "#Plotting a graph to visualise the testing set results\n",
        "plt.scatter(x_test, y_test, color='blue') #scatter plot for train values (actual values)\n",
        "plt.plot(x_train, actual_value, color='red') #line plot for model\n",
        "plt.title('Salary VS Experience')  \n",
        "plt.xlabel('Experience')\n",
        "plt.ylabel('Salary(in Rupees)')\n",
        "plt.show()"
      ],
      "metadata": {
        "colab": {
          "base_uri": "https://localhost:8080/",
          "height": 295
        },
        "id": "VcQneHxijUPB",
        "outputId": "7b12e3fe-0922-4ecb-e90c-f417f60811b3"
      },
      "execution_count": 9,
      "outputs": [
        {
          "output_type": "display_data",
          "data": {
            "text/plain": [
              "<Figure size 432x288 with 1 Axes>"
            ],
            "image/png": "[encoded data removed]"
          },
          "metadata": {
            "needs_background": "light"
          }
        }
      ]
    },
    {
      "cell_type": "code",
      "source": [],
      "metadata": {
        "id": "wQeIZ21FmINt"
      },
      "execution_count": null,
      "outputs": []
    }
  ]
}